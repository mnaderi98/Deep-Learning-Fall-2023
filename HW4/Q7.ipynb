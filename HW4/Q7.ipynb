{
  "nbformat": 4,
  "nbformat_minor": 0,
  "metadata": {
    "colab": {
      "provenance": []
    },
    "kernelspec": {
      "name": "python3",
      "display_name": "Python 3"
    },
    "language_info": {
      "name": "python"
    }
  },
  "cells": [
    {
      "cell_type": "markdown",
      "source": [
        "بارگذاری داده ها"
      ],
      "metadata": {
        "id": "oYm6nRwfrjs0"
      }
    },
    {
      "cell_type": "code",
      "execution_count": 2,
      "metadata": {
        "colab": {
          "base_uri": "https://localhost:8080/"
        },
        "id": "ruddQnqNolJf",
        "outputId": "cae53e47-2d60-44c3-e081-5475094f6983"
      },
      "outputs": [
        {
          "output_type": "stream",
          "name": "stdout",
          "text": [
            "Downloading data from https://storage.googleapis.com/tensorflow/tf-keras-datasets/mnist.npz\n",
            "11490434/11490434 [==============================] - 1s 0us/step\n"
          ]
        }
      ],
      "source": [
        "import matplotlib.pyplot as plt\n",
        "import numpy as np\n",
        "import tensorflow as tf\n",
        "\n",
        "# Load the MNIST dataset\n",
        "(x_train, y_train), (x_test, y_test) = tf.keras.datasets.mnist.load_data()"
      ]
    },
    {
      "cell_type": "markdown",
      "source": [
        "شافل کردن داده ها و چاپ کردن ابعاد"
      ],
      "metadata": {
        "id": "XNzve-XWroF5"
      }
    },
    {
      "cell_type": "code",
      "source": [
        "import numpy as np\n",
        "\n",
        "# Get the number of training examples\n",
        "num_train_examples = len(x_train)\n",
        "\n",
        "# Create a random index order\n",
        "random_index = np.random.permutation(num_train_examples)\n",
        "\n",
        "# Shuffle the training data and labels using the random index\n",
        "x_train = x_train[random_index]\n",
        "y_train = y_train[random_index]\n",
        "\n",
        "print(x_train[0].shape)"
      ],
      "metadata": {
        "colab": {
          "base_uri": "https://localhost:8080/"
        },
        "id": "xsttOGcPr6UD",
        "outputId": "30dea2d3-d8eb-4e46-fc66-789e907990b0"
      },
      "execution_count": 3,
      "outputs": [
        {
          "output_type": "stream",
          "name": "stdout",
          "text": [
            "(28, 28)\n"
          ]
        }
      ]
    },
    {
      "cell_type": "markdown",
      "source": [
        "نمایش 10 تصویر نخست داده های آموزشی همراه برچسب آن ها"
      ],
      "metadata": {
        "id": "3y3_tyBAtSkN"
      }
    },
    {
      "cell_type": "code",
      "source": [
        "plt.figure(figsize=(10, 5))\n",
        "for i in range(10):\n",
        "    image = x_train[i]\n",
        "    label = y_train[i]\n",
        "    plt.subplot(2, 5, i + 1)\n",
        "    plt.imshow(image, cmap='gray')\n",
        "    plt.title(f\"Class: {label}\")\n",
        "    plt.axis('off')\n",
        "\n",
        "plt.tight_layout()\n",
        "plt.show()"
      ],
      "metadata": {
        "colab": {
          "base_uri": "https://localhost:8080/",
          "height": 473
        },
        "id": "DP3ZyvhUtay-",
        "outputId": "fb0910f7-0231-4e40-f612-da650d3394f3"
      },
      "execution_count": 4,
      "outputs": [
        {
          "output_type": "display_data",
          "data": {
            "text/plain": [
              "<Figure size 1000x500 with 10 Axes>"
            ],
            "image/png": "[encoded data removed]"
          },
          "metadata": {}
        }
      ]
    },
    {
      "cell_type": "markdown",
      "source": [
        "مقادیر پیکسل ها را به محدوده 0 تا 1 تغیرر دهید."
      ],
      "metadata": {
        "id": "vCSS4yYEtztE"
      }
    },
    {
      "cell_type": "code",
      "source": [
        "x_train = x_train.reshape(x_train.shape[0], 28, 28, 1).astype('float32') / 255.0\n",
        "x_test = x_test.reshape(x_test.shape[0], 28, 28, 1).astype('float32') / 255.0"
      ],
      "metadata": {
        "id": "5mgXU7PFt9lE"
      },
      "execution_count": null,
      "outputs": []
    },
    {
      "cell_type": "markdown",
      "source": [
        "برچسب ها را به نمایش categorical تغییر دهید."
      ],
      "metadata": {
        "id": "vm5Q-7whuBeH"
      }
    },
    {
      "cell_type": "code",
      "source": [
        "import tensorflow.keras as keras\n",
        "\n",
        "# Convert training labels to categorical format\n",
        "y_train = keras.utils.to_categorical(y_train, 10)\n",
        "\n",
        "# Convert test labels to categorical format if needed\n",
        "y_test = keras.utils.to_categorical(y_test, 10)"
      ],
      "metadata": {
        "id": "nkABHXfLuq8B"
      },
      "execution_count": 10,
      "outputs": []
    },
    {
      "cell_type": "markdown",
      "source": [
        "طراحی شبکه عصبی با ویژگی های گفته شده"
      ],
      "metadata": {
        "id": "aTPX6T2pvFZV"
      }
    },
    {
      "cell_type": "code",
      "source": [
        "from tensorflow.keras.models import Sequential\n",
        "from tensorflow.keras.layers import Conv2D, MaxPooling2D, Flatten, Dense\n",
        "from tensorflow.keras.optimizers import Adam\n",
        "# Create the neural network model\n",
        "model = Sequential([\n",
        "    Conv2D(32, (3, 3), activation='relu', padding='same', input_shape=(28, 28, 1)),\n",
        "    MaxPooling2D((2, 2)),\n",
        "    Conv2D(64, (3, 3), activation='relu', padding='same'),\n",
        "    MaxPooling2D((2, 2)),\n",
        "    Conv2D(64, (3, 3), activation='relu', padding='same'),\n",
        "    MaxPooling2D((2, 2)),\n",
        "    Flatten(),\n",
        "    Dense(128, activation='relu'),\n",
        "    Dense(10, activation='softmax')\n",
        "])\n",
        "\n",
        "# Compile the model with 'categorical_crossentropy' as the loss function\n",
        "model.compile(optimizer='adam', loss='categorical_crossentropy', metrics=['accuracy'])\n"
      ],
      "metadata": {
        "id": "6GTjp9J7retZ"
      },
      "execution_count": 13,
      "outputs": []
    },
    {
      "cell_type": "markdown",
      "source": [
        "آموزش مدل با مشخصات گفته شده"
      ],
      "metadata": {
        "id": "1h7wCP9Erig7"
      }
    },
    {
      "cell_type": "code",
      "source": [
        "# Train the model with categorical labels\n",
        "model.fit(x_train, y_train, epochs=15, batch_size=64, validation_data=(x_test, y_test))"
      ],
      "metadata": {
        "colab": {
          "base_uri": "https://localhost:8080/"
        },
        "id": "oHRnxkXcre94",
        "outputId": "8279bfdf-2e57-4803-b2af-15e00c6560b4"
      },
      "execution_count": 14,
      "outputs": [
        {
          "output_type": "stream",
          "name": "stdout",
          "text": [
            "Epoch 1/15\n",
            "938/938 [==============================] - 93s 98ms/step - loss: 0.4392 - accuracy: 0.9330 - val_loss: 0.0541 - val_accuracy: 0.9831\n",
            "Epoch 2/15\n",
            "938/938 [==============================] - 91s 97ms/step - loss: 0.0597 - accuracy: 0.9816 - val_loss: 0.0489 - val_accuracy: 0.9846\n",
            "Epoch 3/15\n",
            "938/938 [==============================] - 92s 99ms/step - loss: 0.0443 - accuracy: 0.9859 - val_loss: 0.0494 - val_accuracy: 0.9840\n",
            "Epoch 4/15\n",
            "938/938 [==============================] - 94s 100ms/step - loss: 0.0334 - accuracy: 0.9890 - val_loss: 0.0394 - val_accuracy: 0.9881\n",
            "Epoch 5/15\n",
            "938/938 [==============================] - 91s 97ms/step - loss: 0.0314 - accuracy: 0.9896 - val_loss: 0.0485 - val_accuracy: 0.9865\n",
            "Epoch 6/15\n",
            "938/938 [==============================] - 92s 98ms/step - loss: 0.0273 - accuracy: 0.9911 - val_loss: 0.0350 - val_accuracy: 0.9905\n",
            "Epoch 7/15\n",
            "938/938 [==============================] - 90s 96ms/step - loss: 0.0287 - accuracy: 0.9910 - val_loss: 0.0406 - val_accuracy: 0.9884\n",
            "Epoch 8/15\n",
            "938/938 [==============================] - 92s 98ms/step - loss: 0.0245 - accuracy: 0.9924 - val_loss: 0.0443 - val_accuracy: 0.9874\n",
            "Epoch 9/15\n",
            "938/938 [==============================] - 92s 98ms/step - loss: 0.0209 - accuracy: 0.9931 - val_loss: 0.0472 - val_accuracy: 0.9881\n",
            "Epoch 10/15\n",
            "938/938 [==============================] - 92s 98ms/step - loss: 0.0207 - accuracy: 0.9933 - val_loss: 0.0531 - val_accuracy: 0.9884\n",
            "Epoch 11/15\n",
            "938/938 [==============================] - 91s 97ms/step - loss: 0.0207 - accuracy: 0.9937 - val_loss: 0.0415 - val_accuracy: 0.9894\n",
            "Epoch 12/15\n",
            "938/938 [==============================] - 92s 99ms/step - loss: 0.0171 - accuracy: 0.9946 - val_loss: 0.0424 - val_accuracy: 0.9889\n",
            "Epoch 13/15\n",
            "938/938 [==============================] - 92s 99ms/step - loss: 0.0139 - accuracy: 0.9957 - val_loss: 0.0655 - val_accuracy: 0.9866\n",
            "Epoch 14/15\n",
            "938/938 [==============================] - 95s 101ms/step - loss: 0.0174 - accuracy: 0.9945 - val_loss: 0.0522 - val_accuracy: 0.9895\n",
            "Epoch 15/15\n",
            "938/938 [==============================] - 92s 99ms/step - loss: 0.0118 - accuracy: 0.9964 - val_loss: 0.0496 - val_accuracy: 0.9895\n"
          ]
        },
        {
          "output_type": "execute_result",
          "data": {
            "text/plain": [
              "<keras.src.callbacks.History at 0x786135332680>"
            ]
          },
          "metadata": {},
          "execution_count": 14
        }
      ]
    },
    {
      "cell_type": "markdown",
      "source": [
        "اجرای الگوریتم گفته شده روی آخرین لایه همگشتی و نمایش خروجی آن روی 10 تصویر نمونه"
      ],
      "metadata": {
        "id": "XxAFavCJ5MIC"
      }
    },
    {
      "cell_type": "code",
      "source": [
        "# Using CAM-Grad algorithm on the last convolutional layer\n",
        "last_conv_layer = model.layers[-3]  # Get the last convolutional layer\n",
        "grad_model = tf.keras.models.Model([model.inputs], [model.output, last_conv_layer.output])\n",
        "import tensorflow as tf\n",
        "import numpy as np\n",
        "import matplotlib.pyplot as plt\n",
        "import os\n",
        "from PIL import Image as PILImage\n",
        "\n",
        "os.environ[\"KERAS_BACKEND\"] = \"tensorflow\"\n",
        "\n",
        "import numpy as np\n",
        "import tensorflow as tf\n",
        "import keras\n",
        "\n",
        "# Display\n",
        "from IPython.display import Image, display\n",
        "import matplotlib as mpl\n",
        "import matplotlib.pyplot as plt\n"
      ],
      "metadata": {
        "id": "5WRPYK2X5vX4"
      },
      "execution_count": 31,
      "outputs": []
    },
    {
      "cell_type": "code",
      "source": [
        "pil_image = PILImage.fromarray((x_train[0] * 255).astype('uint8'))  # Convert to 8-bit unsigned integers\n",
        "\n",
        "# Save the PIL image temporarily\n",
        "temp_image_path = \"temp_image.png\"\n",
        "pil_image.save(temp_image_path)\n",
        "\n",
        "# Display the image using IPython.display.Image\n",
        "display(Image(filename=temp_image_path, width=400, height=400))\n"
      ],
      "metadata": {
        "colab": {
          "base_uri": "https://localhost:8080/",
          "height": 417
        },
        "id": "d9MW7MVIE_me",
        "outputId": "7532a690-cc8f-4033-da20-06b55280967f"
      },
      "execution_count": 57,
      "outputs": [
        {
          "output_type": "display_data",
          "data": {
            "image/png": "[encoded data removed]",
            "text/plain": [
              "<IPython.core.display.Image object>"
            ]
          },
          "metadata": {
            "image/png": {
              "width": 400,
              "height": 400
            }
          }
        }
      ]
    },
    {
      "cell_type": "code",
      "source": [
        "plt.imshow(x_train[0])\n",
        "plt.show()"
      ],
      "metadata": {
        "colab": {
          "base_uri": "https://localhost:8080/",
          "height": 430
        },
        "id": "rrEOckmCGlq5",
        "outputId": "b8d79ad3-21cf-4861-8971-dae7474f1cf8"
      },
      "execution_count": 35,
      "outputs": [
        {
          "output_type": "display_data",
          "data": {
            "text/plain": [
              "<Figure size 640x480 with 1 Axes>"
            ],
            "image/png": "[encoded data removed]"
          },
          "metadata": {}
        }
      ]
    },
    {
      "cell_type": "code",
      "source": [
        "def get_img_array(img_path, size):\n",
        "    img = keras.utils.load_img(img_path, target_size=size)\n",
        "    array = keras.utils.img_to_array(img)\n",
        "    array = np.expand_dims(array, axis=0)\n",
        "    return array\n",
        "\n",
        "\n",
        "def make_gradcam_heatmap(img_array, model, last_conv_layer_name, pred_index=None):\n",
        "    grad_model = keras.models.Model(\n",
        "        model.inputs, [model.get_layer(last_conv_layer_name).output, model.output]\n",
        "    )\n",
        "    print(1)\n",
        "    with tf.GradientTape() as tape:\n",
        "        last_conv_layer_output, preds = grad_model(img_array)\n",
        "        if pred_index is None:\n",
        "            pred_index = tf.argmax(preds[0])\n",
        "        class_channel = preds[:, pred_index]\n",
        "    grads = tape.gradient(class_channel, last_conv_layer_output)\n",
        "    pooled_grads = tf.reduce_mean(grads, axis=(0, 1, 2))\n",
        "    last_conv_layer_output = last_conv_layer_output[0]\n",
        "    heatmap = last_conv_layer_output @ pooled_grads[..., tf.newaxis]\n",
        "    heatmap = tf.squeeze(heatmap)\n",
        "\n",
        "    heatmap = tf.maximum(heatmap, 0) / tf.math.reduce_max(heatmap)\n",
        "    return heatmap.numpy()"
      ],
      "metadata": {
        "id": "y7dyjpbXG6Fx"
      },
      "execution_count": 37,
      "outputs": []
    },
    {
      "cell_type": "code",
      "source": [
        "preds = model.predict(x_train[0].reshape((1, 28, 28, 1)))\n",
        "print(\"Predicted:\", preds)\n",
        "\n",
        "# Generate class activation heatmap\n",
        "heatmap = make_gradcam_heatmap(x_train[0].reshape((1, 28, 28, 1)), model, last_conv_layer.name)\n",
        "\n",
        "# Display heatmap\n",
        "plt.matshow(heatmap)\n",
        "plt.show()"
      ],
      "metadata": {
        "colab": {
          "base_uri": "https://localhost:8080/",
          "height": 489
        },
        "id": "VE9dCRLaHOrW",
        "outputId": "11328989-0b7b-43ca-c1f1-cc64db4ca5d0"
      },
      "execution_count": 58,
      "outputs": [
        {
          "output_type": "stream",
          "name": "stdout",
          "text": [
            "1/1 [==============================] - 0s 254ms/step\n",
            "Predicted: [[4.7569110e-27 9.5840501e-17 5.0731626e-26 1.7960880e-27 1.0000000e+00\n",
            "  3.7507225e-16 3.5089878e-18 9.2531368e-18 1.6180940e-11 1.3213144e-12]]\n"
          ]
        },
        {
          "output_type": "display_data",
          "data": {
            "text/plain": [
              "<Figure size 480x480 with 1 Axes>"
            ],
            "image/png": "[encoded data removed]"
          },
          "metadata": {}
        }
      ]
    },
    {
      "cell_type": "code",
      "source": [
        "def save_and_display_gradcam(img, heatmap, cam_path=\"cam.jpg\", alpha=0.4):\n",
        "    # Load the original image\n",
        "    img = keras.utils.img_to_array(img)\n",
        "\n",
        "    # Rescale heatmap to a range 0-255\n",
        "    heatmap = np.uint8(255 * heatmap)\n",
        "\n",
        "    # Use jet colormap to colorize heatmap\n",
        "    jet = mpl.colormaps[\"jet\"]\n",
        "\n",
        "    # Use RGB values of the colormap\n",
        "    jet_colors = jet(np.arange(256))[:, :3]\n",
        "    jet_heatmap = jet_colors[heatmap]\n",
        "\n",
        "    # Create an image with RGB colorized heatmap\n",
        "    jet_heatmap = keras.utils.array_to_img(jet_heatmap)\n",
        "    jet_heatmap = jet_heatmap.resize((img.shape[1], img.shape[0]))\n",
        "    jet_heatmap = keras.utils.img_to_array(jet_heatmap)\n",
        "\n",
        "    # Superimpose the heatmap on original image\n",
        "    superimposed_img = jet_heatmap * alpha + img\n",
        "    superimposed_img = keras.utils.array_to_img(superimposed_img)\n",
        "\n",
        "    # Save the superimposed image\n",
        "    superimposed_img.save(cam_path)\n",
        "\n",
        "    # Display Grad CAM\n",
        "    display(Image(cam_path, width=400, height=400))\n",
        "\n",
        "\n",
        "save_and_display_gradcam(x_train[0], heatmap, \"x_train[0].png\")"
      ],
      "metadata": {
        "colab": {
          "base_uri": "https://localhost:8080/",
          "height": 417
        },
        "id": "KWXp9OrExl6-",
        "outputId": "d65c1f3c-a039-41ed-aec5-2d098ea9bbe8"
      },
      "execution_count": 56,
      "outputs": [
        {
          "output_type": "display_data",
          "data": {
            "image/png": "[encoded data removed]",
            "text/plain": [
              "<IPython.core.display.Image object>"
            ]
          },
          "metadata": {
            "image/png": {
              "width": 400,
              "height": 400
            }
          }
        }
      ]
    },
    {
      "cell_type": "markdown",
      "source": [
        "در بالا فقط برای یک تصویر انجام شده و باید برای 10 تصویر انجام دهیم."
      ],
      "metadata": {
        "id": "hoRghcGgWik9"
      }
    },
    {
      "cell_type": "code",
      "source": [
        "for i in range(1, 11):\n",
        "    heatmap = make_gradcam_heatmap(x_train[i].reshape((1, 28, 28, 1)), model, last_conv_layer.name)\n",
        "    plt.matshow(heatmap)\n",
        "    plt.show()\n",
        "    save_and_display_gradcam(x_train[i], heatmap, f\"x_train[{i}].png\")\n"
      ],
      "metadata": {
        "colab": {
          "base_uri": "https://localhost:8080/",
          "height": 1000
        },
        "id": "RnCdsT-wWqNj",
        "outputId": "50dd4b48-e0a3-4936-bbaf-7628806cf028"
      },
      "execution_count": 59,
      "outputs": [
        {
          "output_type": "display_data",
          "data": {
            "text/plain": [
              "<Figure size 480x480 with 1 Axes>"
            ],
            "image/png": "[encoded data removed]"
          },
          "metadata": {}
        },
        {
          "output_type": "display_data",
          "data": {
            "image/png": "[encoded data removed]",
            "text/plain": [
              "<IPython.core.display.Image object>"
            ]
          },
          "metadata": {
            "image/png": {
              "width": 400,
              "height": 400
            }
          }
        },
        {
          "output_type": "display_data",
          "data": {
            "text/plain": [
              "<Figure size 480x480 with 1 Axes>"
            ],
            "image/png": "[encoded data removed]"
          },
          "metadata": {}
        },
        {
          "output_type": "display_data",
          "data": {
            "image/png": "[encoded data removed]",
            "text/plain": [
              "<IPython.core.display.Image object>"
            ]
          },
          "metadata": {
            "image/png": {
              "width": 400,
              "height": 400
            }
          }
        },
        {
          "output_type": "display_data",
          "data": {
            "text/plain": [
              "<Figure size 480x480 with 1 Axes>"
            ],
            "image/png": "[encoded data removed]"
          },
          "metadata": {}
        },
        {
          "output_type": "display_data",
          "data": {
            "image/png": "[encoded data removed]",
            "text/plain": [
              "<IPython.core.display.Image object>"
            ]
          },
          "metadata": {
            "image/png": {
              "width": 400,
              "height": 400
            }
          }
        },
        {
          "output_type": "display_data",
          "data": {
            "text/plain": [
              "<Figure size 480x480 with 1 Axes>"
            ],
            "image/png": "[encoded data removed]"
          },
          "metadata": {}
        },
        {
          "output_type": "display_data",
          "data": {
            "image/png": "[encoded data removed]",
            "text/plain": [
              "<IPython.core.display.Image object>"
            ]
          },
          "metadata": {
            "image/png": {
              "width": 400,
              "height": 400
            }
          }
        },
        {
          "output_type": "display_data",
          "data": {
            "text/plain": [
              "<Figure size 480x480 with 1 Axes>"
            ],
            "image/png": "[encoded data removed]"
          },
          "metadata": {}
        },
        {
          "output_type": "display_data",
          "data": {
            "image/png": "[encoded data removed]",
            "text/plain": [
              "<IPython.core.display.Image object>"
            ]
          },
          "metadata": {
            "image/png": {
              "width": 400,
              "height": 400
            }
          }
        },
        {
          "output_type": "display_data",
          "data": {
            "text/plain": [
              "<Figure size 480x480 with 1 Axes>"
            ],
            "image/png": "[encoded data removed]"
          },
          "metadata": {}
        },
        {
          "output_type": "display_data",
          "data": {
            "image/png": "[encoded data removed]",
            "text/plain": [
              "<IPython.core.display.Image object>"
            ]
          },
          "metadata": {
            "image/png": {
              "width": 400,
              "height": 400
            }
          }
        },
        {
          "output_type": "display_data",
          "data": {
            "text/plain": [
              "<Figure size 480x480 with 1 Axes>"
            ],
            "image/png": "[encoded data removed]"
          },
          "metadata": {}
        },
        {
          "output_type": "display_data",
          "data": {
            "image/png": "[encoded data removed]",
            "text/plain": [
              "<IPython.core.display.Image object>"
            ]
          },
          "metadata": {
            "image/png": {
              "width": 400,
              "height": 400
            }
          }
        },
        {
          "output_type": "display_data",
          "data": {
            "text/plain": [
              "<Figure size 480x480 with 1 Axes>"
            ],
            "image/png": "[encoded data removed]"
          },
          "metadata": {}
        },
        {
          "output_type": "display_data",
          "data": {
            "image/png": "[encoded data removed]",
            "text/plain": [
              "<IPython.core.display.Image object>"
            ]
          },
          "metadata": {
            "image/png": {
              "width": 400,
              "height": 400
            }
          }
        },
        {
          "output_type": "display_data",
          "data": {
            "text/plain": [
              "<Figure size 480x480 with 1 Axes>"
            ],
            "image/png": "[encoded data removed]"
          },
          "metadata": {}
        },
        {
          "output_type": "display_data",
          "data": {
            "image/png": "[encoded data removed]",
            "text/plain": [
              "<IPython.core.display.Image object>"
            ]
          },
          "metadata": {
            "image/png": {
              "width": 400,
              "height": 400
            }
          }
        },
        {
          "output_type": "display_data",
          "data": {
            "text/plain": [
              "<Figure size 480x480 with 1 Axes>"
            ],
            "image/png": "[encoded data removed]"
          },
          "metadata": {}
        },
        {
          "output_type": "display_data",
          "data": {
            "image/png": "[encoded data removed]",
            "text/plain": [
              "<IPython.core.display.Image object>"
            ]
          },
          "metadata": {
            "image/png": {
              "width": 400,
              "height": 400
            }
          }
        }
      ]
    },
    {
      "cell_type": "code",
      "source": [],
      "metadata": {
        "id": "nMlvmU98Xhzr"
      },
      "execution_count": null,
      "outputs": []
    }
  ]
}