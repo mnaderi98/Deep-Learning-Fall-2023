{
  "nbformat": 4,
  "nbformat_minor": 0,
  "metadata": {
    "colab": {
      "provenance": []
    },
    "kernelspec": {
      "name": "python3",
      "display_name": "Python 3"
    },
    "language_info": {
      "name": "python"
    }
  },
  "cells": [
    {
      "cell_type": "code",
      "source": [
        "!pip install keras-tuner"
      ],
      "metadata": {
        "colab": {
          "base_uri": "https://localhost:8080/"
        },
        "id": "gk2XIDqF1tne",
        "outputId": "d879bc9c-557d-4903-c4c7-a1d7e473e5ae"
      },
      "execution_count": 9,
      "outputs": [
        {
          "output_type": "stream",
          "name": "stdout",
          "text": [
            "Requirement already satisfied: keras-tuner in /usr/local/lib/python3.10/dist-packages (1.4.6)\n",
            "Requirement already satisfied: keras in /usr/local/lib/python3.10/dist-packages (from keras-tuner) (2.14.0)\n",
            "Requirement already satisfied: packaging in /usr/local/lib/python3.10/dist-packages (from keras-tuner) (23.2)\n",
            "Requirement already satisfied: requests in /usr/local/lib/python3.10/dist-packages (from keras-tuner) (2.31.0)\n",
            "Requirement already satisfied: kt-legacy in /usr/local/lib/python3.10/dist-packages (from keras-tuner) (1.0.5)\n",
            "Requirement already satisfied: charset-normalizer<4,>=2 in /usr/local/lib/python3.10/dist-packages (from requests->keras-tuner) (3.3.2)\n",
            "Requirement already satisfied: idna<4,>=2.5 in /usr/local/lib/python3.10/dist-packages (from requests->keras-tuner) (3.6)\n",
            "Requirement already satisfied: urllib3<3,>=1.21.1 in /usr/local/lib/python3.10/dist-packages (from requests->keras-tuner) (2.0.7)\n",
            "Requirement already satisfied: certifi>=2017.4.17 in /usr/local/lib/python3.10/dist-packages (from requests->keras-tuner) (2023.11.17)\n"
          ]
        }
      ]
    },
    {
      "cell_type": "code",
      "source": [
        "import tensorflow as tf\n",
        "from tensorflow import keras\n",
        "from kerastuner.tuners import RandomSearch\n",
        "\n",
        "def build_model(hp):\n",
        "    model = keras.Sequential()\n",
        "\n",
        "    # Hyperparameters\n",
        "    max_conv_layers = 5\n",
        "    max_dense_layers = 5\n",
        "    max_filters_neurons = 256\n",
        "    max_lr = 0.001\n",
        "\n",
        "    # Tune number of convolutional layers\n",
        "    num_conv_layers = hp.Int('num_conv_layers', 1, max_conv_layers)\n",
        "\n",
        "    # Add convolutional layers\n",
        "    for i in range(num_conv_layers):\n",
        "        filters = hp.Int(f'conv_{i}_filters', 32, max_filters_neurons, step=32)\n",
        "        model.add(keras.layers.Conv2D(filters, (3, 3), activation='relu', input_shape=(28, 28, 1)))\n",
        "        model.add(keras.layers.MaxPooling2D((2, 2)))\n",
        "\n",
        "    model.add(keras.layers.Flatten())\n",
        "\n",
        "    # Tune number of dense layers\n",
        "    num_dense_layers = hp.Int('num_dense_layers', 1, max_dense_layers)\n",
        "\n",
        "    # Add dense layers\n",
        "    for i in range(num_dense_layers):\n",
        "        neurons = hp.Int(f'dense_{i}_neurons', 32, max_filters_neurons, step=32)\n",
        "        model.add(keras.layers.Dense(neurons, activation='relu'))\n",
        "\n",
        "    model.add(keras.layers.Dense(10, activation='softmax'))\n",
        "\n",
        "    # Tune learning rate\n",
        "    lr = hp.Choice('learning_rate', [max_lr])\n",
        "\n",
        "    # Compile the model\n",
        "    model.compile(optimizer=keras.optimizers.Adam(learning_rate=lr),\n",
        "                  loss='sparse_categorical_crossentropy',\n",
        "                  metrics=['accuracy'])\n",
        "\n",
        "    return model\n",
        "\n",
        "# Define the Keras Tuner\n",
        "tuner = RandomSearch(\n",
        "    build_model,\n",
        "    objective='val_accuracy',\n",
        "    max_trials=5,\n",
        "    executions_per_trial=1,\n",
        "    directory='my_dir',\n",
        "    project_name='convolutional_tuner'\n",
        ")\n",
        "\n",
        "# Get the data (for example MNIST dataset)\n",
        "(x_train, y_train), (x_test, y_test) = keras.datasets.mnist.load_data()\n",
        "x_train = x_train.reshape(x_train.shape[0], 28, 28, 1).astype('float32') / 255.0\n",
        "x_test = x_test.reshape(x_test.shape[0], 28, 28, 1).astype('float32') / 255.0\n",
        "\n",
        "# Start the Keras Tuner search for best hyperparameters\n",
        "tuner.search(x_train, y_train, epochs=5, validation_data=(x_test, y_test))\n",
        "\n",
        "# Get the best model\n",
        "best_model = tuner.get_best_models(num_models=1)[0]\n",
        "best_hyperparameters = tuner.get_best_hyperparameters(num_trials=1)[0]\n",
        "\n",
        "# Summary of the best model\n",
        "best_model.summary()\n"
      ],
      "metadata": {
        "colab": {
          "base_uri": "https://localhost:8080/"
        },
        "id": "tyG0JeNx2maY",
        "outputId": "16e1e9b5-55f0-4af2-eee7-98c1a05ddd3a"
      },
      "execution_count": 11,
      "outputs": [
        {
          "output_type": "stream",
          "name": "stdout",
          "text": [
            "Trial 5 Complete [01h 01m 29s]\n",
            "val_accuracy: 0.9915000200271606\n",
            "\n",
            "Best val_accuracy So Far: 0.9915000200271606\n",
            "Total elapsed time: 02h 24m 00s\n",
            "Model: \"sequential\"\n",
            "_________________________________________________________________\n",
            " Layer (type)                Output Shape              Param #   \n",
            "=================================================================\n",
            " conv2d (Conv2D)             (None, 26, 26, 256)       2560      \n",
            "                                                                 \n",
            " max_pooling2d (MaxPooling2  (None, 13, 13, 256)       0         \n",
            " D)                                                              \n",
            "                                                                 \n",
            " conv2d_1 (Conv2D)           (None, 11, 11, 256)       590080    \n",
            "                                                                 \n",
            " max_pooling2d_1 (MaxPoolin  (None, 5, 5, 256)         0         \n",
            " g2D)                                                            \n",
            "                                                                 \n",
            " flatten (Flatten)           (None, 6400)              0         \n",
            "                                                                 \n",
            " dense (Dense)               (None, 64)                409664    \n",
            "                                                                 \n",
            " dense_1 (Dense)             (None, 224)               14560     \n",
            "                                                                 \n",
            " dense_2 (Dense)             (None, 96)                21600     \n",
            "                                                                 \n",
            " dense_3 (Dense)             (None, 192)               18624     \n",
            "                                                                 \n",
            " dense_4 (Dense)             (None, 64)                12352     \n",
            "                                                                 \n",
            " dense_5 (Dense)             (None, 10)                650       \n",
            "                                                                 \n",
            "=================================================================\n",
            "Total params: 1070090 (4.08 MB)\n",
            "Trainable params: 1070090 (4.08 MB)\n",
            "Non-trainable params: 0 (0.00 Byte)\n",
            "_________________________________________________________________\n"
          ]
        }
      ]
    },
    {
      "cell_type": "code",
      "source": [
        "best_hyperparameters = tuner.get_best_hyperparameters(num_trials=1)[0]\n",
        "# Get the number of convolutional layers and dense layers\n",
        "num_conv_layers = best_hyperparameters.get('num_conv_layers')\n",
        "num_dense_layers = best_hyperparameters.get('num_dense_layers')\n",
        "\n",
        "# Display the number of filters for each convolutional layer\n",
        "print(\"Number of Filters for Each Convolutional Layer:\")\n",
        "print(\"==============================================\")\n",
        "for i in range(num_conv_layers):\n",
        "    filters = best_hyperparameters.get(f'conv_{i}_filters')\n",
        "    print(f\"Convolutional Layer {i + 1}: {filters} filters\")\n",
        "\n",
        "# Display the number of neurons for each dense layer\n",
        "print(\"\\nNumber of Neurons for Each Dense Layer:\")\n",
        "print(\"=======================================\")\n",
        "for i in range(num_dense_layers):\n",
        "    neurons = best_hyperparameters.get(f'dense_{i}_neurons')\n",
        "    print(f\"Dense Layer {i + 1}: {neurons} neurons\")\n",
        "\n",
        "print(f\"Learning Rate: {best_hyperparameters.get('learning_rate')}\")"
      ],
      "metadata": {
        "colab": {
          "base_uri": "https://localhost:8080/"
        },
        "id": "c4bLBrh4ldXt",
        "outputId": "c72cf8ef-947a-41c1-addd-3021cbcc0bca"
      },
      "execution_count": 17,
      "outputs": [
        {
          "output_type": "stream",
          "name": "stdout",
          "text": [
            "Number of Filters for Each Convolutional Layer:\n",
            "==============================================\n",
            "Convolutional Layer 1: 256 filters\n",
            "Convolutional Layer 2: 256 filters\n",
            "\n",
            "Number of Neurons for Each Dense Layer:\n",
            "=======================================\n",
            "Dense Layer 1: 64 neurons\n",
            "Dense Layer 2: 224 neurons\n",
            "Dense Layer 3: 96 neurons\n",
            "Dense Layer 4: 192 neurons\n",
            "Dense Layer 5: 64 neurons\n",
            "Learning Rate: 0.001\n"
          ]
        }
      ]
    },
    {
      "cell_type": "code",
      "source": [
        "import matplotlib.pyplot as plt\n",
        "import numpy as np\n",
        "import tensorflow as tf\n",
        "\n",
        "# Load the MNIST dataset\n",
        "(_, _), (x_test, y_test) = tf.keras.datasets.mnist.load_data()\n",
        "\n",
        "# Create a dictionary to store one image per class\n",
        "class_images = {}\n",
        "\n",
        "# Loop through the dataset to find one image per class\n",
        "for i in range(len(x_test)):\n",
        "    label = y_test[i]\n",
        "    if label not in class_images:\n",
        "        class_images[label] = x_test[i]\n",
        "        if len(class_images) == 10:  # Found one image per class\n",
        "            break\n",
        "\n",
        "# Display one image per class\n",
        "plt.figure(figsize=(10, 5))\n",
        "for i, (label, image) in enumerate(class_images.items()):\n",
        "    plt.subplot(2, 5, i + 1)\n",
        "    plt.imshow(image, cmap='gray')\n",
        "    plt.title(f\"Class: {label}\")\n",
        "    plt.axis('off')\n",
        "\n",
        "plt.tight_layout()\n",
        "plt.show()\n"
      ],
      "metadata": {
        "colab": {
          "base_uri": "https://localhost:8080/",
          "height": 473
        },
        "id": "2CkguI9mlqTN",
        "outputId": "01ffebb7-4429-484c-d838-e7de43e8eb7d"
      },
      "execution_count": 21,
      "outputs": [
        {
          "output_type": "display_data",
          "data": {
            "text/plain": [
              "<Figure size 1000x500 with 10 Axes>"
            ],
            "image/png": "[encoded data removed]"
          },
          "metadata": {}
        }
      ]
    },
    {
      "cell_type": "code",
      "source": [],
      "metadata": {
        "id": "shOLW0PL8Loz"
      },
      "execution_count": null,
      "outputs": []
    }
  ]
}