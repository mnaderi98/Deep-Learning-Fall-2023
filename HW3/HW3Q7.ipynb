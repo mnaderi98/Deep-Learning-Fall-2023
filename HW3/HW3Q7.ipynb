{
  "nbformat": 4,
  "nbformat_minor": 0,
  "metadata": {
    "colab": {
      "provenance": []
    },
    "kernelspec": {
      "name": "python3",
      "display_name": "Python 3"
    },
    "language_info": {
      "name": "python"
    },
    "accelerator": "TPU"
  },
  "cells": [
    {
      "cell_type": "code",
      "execution_count": null,
      "metadata": {
        "colab": {
          "base_uri": "https://localhost:8080/"
        },
        "id": "FB63tqHez3d8",
        "outputId": "7581c704-9fe4-4880-84cc-6d1f4445cad5"
      },
      "outputs": [
        {
          "output_type": "stream",
          "name": "stdout",
          "text": [
            "Downloading data from https://www.cs.toronto.edu/~kriz/cifar-10-python.tar.gz\n",
            "170498071/170498071 [==============================] - 3s 0us/step\n",
            "Epoch 1/3\n",
            "1009/1563 [==================>...........] - ETA: 34:57 - loss: 1.5566 - accuracy: 0.4414"
          ]
        }
      ],
      "source": [
        "import tensorflow as tf\n",
        "from tensorflow.keras import layers, models\n",
        "\n",
        "# دریافت مجموعه داده CIFAR-10\n",
        "(train_images, train_labels), (test_images, test_labels) = tf.keras.datasets.cifar10.load_data()\n",
        "\n",
        "# پیش‌پردازش داده‌ها\n",
        "train_images, test_images = train_images / 255.0, test_images / 255.0\n",
        "\n",
        "# ایجاد مدل Inception\n",
        "input_shape = (32, 32, 3)  # ابعاد تصویر\n",
        "num_classes = 10  # تعداد کلاس‌ها در مجموعه داده CIFAR-10\n",
        "\n",
        "model = models.Sequential()\n",
        "\n",
        "# لایه‌های اولیه شبکه Inception\n",
        "model.add(layers.Conv2D(64, (1, 1), activation='relu', input_shape=input_shape))\n",
        "\n",
        "# لایه‌های Inception Module\n",
        "model.add(layers.Conv2D(64, (1, 1), activation='relu'))\n",
        "model.add(layers.Conv2D(128, (3, 3), activation='relu'))\n",
        "model.add(layers.Conv2D(256, (5, 5), activation='relu'))\n",
        "model.add(layers.MaxPooling2D((3, 3), strides=(1, 1), padding='same'))\n",
        "\n",
        "# لایه‌های آخر شبکه\n",
        "model.add(layers.Flatten())\n",
        "model.add(layers.Dense(512, activation='relu'))\n",
        "model.add(layers.Dense(num_classes, activation='softmax'))\n",
        "\n",
        "# کامپایل مدل\n",
        "model.compile(optimizer='adam',\n",
        "              loss='sparse_categorical_crossentropy',\n",
        "              metrics=['accuracy'])\n",
        "\n",
        "# آموزش مدل\n",
        "history = model.fit(train_images, train_labels, epochs=3, validation_data=(test_images, test_labels))\n",
        "\n",
        "# ارزیابی مدل بر روی داده‌های تست\n",
        "test_loss, test_accuracy = model.evaluate(test_images, test_labels)\n",
        "\n",
        "print(f\"دقت مدل بر روی داده‌های تست: {test_accuracy * 100:.2f}%\")\n"
      ]
    },
    {
      "cell_type": "code",
      "source": [],
      "metadata": {
        "id": "MPctwugH0oVX"
      },
      "execution_count": null,
      "outputs": []
    }
  ]
}